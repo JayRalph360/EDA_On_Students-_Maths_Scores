{
 "cells": [
  {
   "cell_type": "code",
   "execution_count": null,
   "metadata": {
    "colab": {
     "base_uri": "https://localhost:8080/"
    },
    "id": "_Jh50WZY6syY",
    "outputId": "e8fdee59-1372-4795-c51b-17006a8dfa0a"
   },
   "outputs": [
    {
     "name": "stdout",
     "output_type": "stream",
     "text": [
      "Collecting pyreadstat\n",
      "  Downloading pyreadstat-1.1.4-cp37-cp37m-manylinux_2_17_x86_64.manylinux2014_x86_64.whl (2.4 MB)\n",
      "\u001b[?25l\r",
      "\u001b[K     |▏                               | 10 kB 26.8 MB/s eta 0:00:01\r",
      "\u001b[K     |▎                               | 20 kB 33.2 MB/s eta 0:00:01\r",
      "\u001b[K     |▍                               | 30 kB 32.7 MB/s eta 0:00:01\r",
      "\u001b[K     |▌                               | 40 kB 13.4 MB/s eta 0:00:01\r",
      "\u001b[K     |▊                               | 51 kB 11.7 MB/s eta 0:00:01\r",
      "\u001b[K     |▉                               | 61 kB 13.5 MB/s eta 0:00:01\r",
      "\u001b[K     |█                               | 71 kB 13.6 MB/s eta 0:00:01\r",
      "\u001b[K     |█                               | 81 kB 13.6 MB/s eta 0:00:01\r",
      "\u001b[K     |█▏                              | 92 kB 14.9 MB/s eta 0:00:01\r",
      "\u001b[K     |█▍                              | 102 kB 11.7 MB/s eta 0:00:01\r",
      "\u001b[K     |█▌                              | 112 kB 11.7 MB/s eta 0:00:01\r",
      "\u001b[K     |█▋                              | 122 kB 11.7 MB/s eta 0:00:01\r",
      "\u001b[K     |█▊                              | 133 kB 11.7 MB/s eta 0:00:01\r",
      "\u001b[K     |█▉                              | 143 kB 11.7 MB/s eta 0:00:01\r",
      "\u001b[K     |██                              | 153 kB 11.7 MB/s eta 0:00:01\r",
      "\u001b[K     |██▏                             | 163 kB 11.7 MB/s eta 0:00:01\r",
      "\u001b[K     |██▎                             | 174 kB 11.7 MB/s eta 0:00:01\r",
      "\u001b[K     |██▍                             | 184 kB 11.7 MB/s eta 0:00:01\r",
      "\u001b[K     |██▌                             | 194 kB 11.7 MB/s eta 0:00:01\r",
      "\u001b[K     |██▊                             | 204 kB 11.7 MB/s eta 0:00:01\r",
      "\u001b[K     |██▉                             | 215 kB 11.7 MB/s eta 0:00:01\r",
      "\u001b[K     |███                             | 225 kB 11.7 MB/s eta 0:00:01\r",
      "\u001b[K     |███                             | 235 kB 11.7 MB/s eta 0:00:01\r",
      "\u001b[K     |███▏                            | 245 kB 11.7 MB/s eta 0:00:01\r",
      "\u001b[K     |███▍                            | 256 kB 11.7 MB/s eta 0:00:01\r",
      "\u001b[K     |███▌                            | 266 kB 11.7 MB/s eta 0:00:01\r",
      "\u001b[K     |███▋                            | 276 kB 11.7 MB/s eta 0:00:01\r",
      "\u001b[K     |███▊                            | 286 kB 11.7 MB/s eta 0:00:01\r",
      "\u001b[K     |███▉                            | 296 kB 11.7 MB/s eta 0:00:01\r",
      "\u001b[K     |████                            | 307 kB 11.7 MB/s eta 0:00:01\r",
      "\u001b[K     |████▏                           | 317 kB 11.7 MB/s eta 0:00:01\r",
      "\u001b[K     |████▎                           | 327 kB 11.7 MB/s eta 0:00:01\r",
      "\u001b[K     |████▍                           | 337 kB 11.7 MB/s eta 0:00:01\r",
      "\u001b[K     |████▌                           | 348 kB 11.7 MB/s eta 0:00:01\r",
      "\u001b[K     |████▊                           | 358 kB 11.7 MB/s eta 0:00:01\r",
      "\u001b[K     |████▉                           | 368 kB 11.7 MB/s eta 0:00:01\r",
      "\u001b[K     |█████                           | 378 kB 11.7 MB/s eta 0:00:01\r",
      "\u001b[K     |█████                           | 389 kB 11.7 MB/s eta 0:00:01\r",
      "\u001b[K     |█████▏                          | 399 kB 11.7 MB/s eta 0:00:01\r",
      "\u001b[K     |█████▍                          | 409 kB 11.7 MB/s eta 0:00:01\r",
      "\u001b[K     |█████▌                          | 419 kB 11.7 MB/s eta 0:00:01\r",
      "\u001b[K     |█████▋                          | 430 kB 11.7 MB/s eta 0:00:01\r",
      "\u001b[K     |█████▊                          | 440 kB 11.7 MB/s eta 0:00:01\r",
      "\u001b[K     |█████▉                          | 450 kB 11.7 MB/s eta 0:00:01\r",
      "\u001b[K     |██████                          | 460 kB 11.7 MB/s eta 0:00:01\r",
      "\u001b[K     |██████▏                         | 471 kB 11.7 MB/s eta 0:00:01\r",
      "\u001b[K     |██████▎                         | 481 kB 11.7 MB/s eta 0:00:01\r",
      "\u001b[K     |██████▍                         | 491 kB 11.7 MB/s eta 0:00:01\r",
      "\u001b[K     |██████▋                         | 501 kB 11.7 MB/s eta 0:00:01\r",
      "\u001b[K     |██████▊                         | 512 kB 11.7 MB/s eta 0:00:01\r",
      "\u001b[K     |██████▉                         | 522 kB 11.7 MB/s eta 0:00:01\r",
      "\u001b[K     |███████                         | 532 kB 11.7 MB/s eta 0:00:01\r",
      "\u001b[K     |███████                         | 542 kB 11.7 MB/s eta 0:00:01\r",
      "\u001b[K     |███████▎                        | 552 kB 11.7 MB/s eta 0:00:01\r",
      "\u001b[K     |███████▍                        | 563 kB 11.7 MB/s eta 0:00:01\r",
      "\u001b[K     |███████▌                        | 573 kB 11.7 MB/s eta 0:00:01\r",
      "\u001b[K     |███████▋                        | 583 kB 11.7 MB/s eta 0:00:01\r",
      "\u001b[K     |███████▊                        | 593 kB 11.7 MB/s eta 0:00:01\r",
      "\u001b[K     |████████                        | 604 kB 11.7 MB/s eta 0:00:01\r",
      "\u001b[K     |████████                        | 614 kB 11.7 MB/s eta 0:00:01\r",
      "\u001b[K     |████████▏                       | 624 kB 11.7 MB/s eta 0:00:01\r",
      "\u001b[K     |████████▎                       | 634 kB 11.7 MB/s eta 0:00:01\r",
      "\u001b[K     |████████▍                       | 645 kB 11.7 MB/s eta 0:00:01\r",
      "\u001b[K     |████████▋                       | 655 kB 11.7 MB/s eta 0:00:01\r",
      "\u001b[K     |████████▊                       | 665 kB 11.7 MB/s eta 0:00:01\r",
      "\u001b[K     |████████▉                       | 675 kB 11.7 MB/s eta 0:00:01\r",
      "\u001b[K     |█████████                       | 686 kB 11.7 MB/s eta 0:00:01\r",
      "\u001b[K     |█████████                       | 696 kB 11.7 MB/s eta 0:00:01\r",
      "\u001b[K     |█████████▎                      | 706 kB 11.7 MB/s eta 0:00:01\r",
      "\u001b[K     |█████████▍                      | 716 kB 11.7 MB/s eta 0:00:01\r",
      "\u001b[K     |█████████▌                      | 727 kB 11.7 MB/s eta 0:00:01\r",
      "\u001b[K     |█████████▋                      | 737 kB 11.7 MB/s eta 0:00:01\r",
      "\u001b[K     |█████████▊                      | 747 kB 11.7 MB/s eta 0:00:01\r",
      "\u001b[K     |██████████                      | 757 kB 11.7 MB/s eta 0:00:01\r",
      "\u001b[K     |██████████                      | 768 kB 11.7 MB/s eta 0:00:01\r",
      "\u001b[K     |██████████▏                     | 778 kB 11.7 MB/s eta 0:00:01\r",
      "\u001b[K     |██████████▎                     | 788 kB 11.7 MB/s eta 0:00:01\r",
      "\u001b[K     |██████████▍                     | 798 kB 11.7 MB/s eta 0:00:01\r",
      "\u001b[K     |██████████▋                     | 808 kB 11.7 MB/s eta 0:00:01\r",
      "\u001b[K     |██████████▊                     | 819 kB 11.7 MB/s eta 0:00:01\r",
      "\u001b[K     |██████████▉                     | 829 kB 11.7 MB/s eta 0:00:01\r",
      "\u001b[K     |███████████                     | 839 kB 11.7 MB/s eta 0:00:01\r",
      "\u001b[K     |███████████                     | 849 kB 11.7 MB/s eta 0:00:01\r",
      "\u001b[K     |███████████▎                    | 860 kB 11.7 MB/s eta 0:00:01\r",
      "\u001b[K     |███████████▍                    | 870 kB 11.7 MB/s eta 0:00:01\r",
      "\u001b[K     |███████████▌                    | 880 kB 11.7 MB/s eta 0:00:01\r",
      "\u001b[K     |███████████▋                    | 890 kB 11.7 MB/s eta 0:00:01\r",
      "\u001b[K     |███████████▊                    | 901 kB 11.7 MB/s eta 0:00:01\r",
      "\u001b[K     |████████████                    | 911 kB 11.7 MB/s eta 0:00:01\r",
      "\u001b[K     |████████████                    | 921 kB 11.7 MB/s eta 0:00:01\r",
      "\u001b[K     |████████████▏                   | 931 kB 11.7 MB/s eta 0:00:01\r",
      "\u001b[K     |████████████▎                   | 942 kB 11.7 MB/s eta 0:00:01\r",
      "\u001b[K     |████████████▍                   | 952 kB 11.7 MB/s eta 0:00:01\r",
      "\u001b[K     |████████████▋                   | 962 kB 11.7 MB/s eta 0:00:01\r",
      "\u001b[K     |████████████▊                   | 972 kB 11.7 MB/s eta 0:00:01\r",
      "\u001b[K     |████████████▉                   | 983 kB 11.7 MB/s eta 0:00:01\r",
      "\u001b[K     |█████████████                   | 993 kB 11.7 MB/s eta 0:00:01\r",
      "\u001b[K     |█████████████▏                  | 1.0 MB 11.7 MB/s eta 0:00:01\r",
      "\u001b[K     |█████████████▎                  | 1.0 MB 11.7 MB/s eta 0:00:01\r",
      "\u001b[K     |█████████████▍                  | 1.0 MB 11.7 MB/s eta 0:00:01\r",
      "\u001b[K     |█████████████▌                  | 1.0 MB 11.7 MB/s eta 0:00:01\r",
      "\u001b[K     |█████████████▋                  | 1.0 MB 11.7 MB/s eta 0:00:01\r",
      "\u001b[K     |█████████████▉                  | 1.1 MB 11.7 MB/s eta 0:00:01\r",
      "\u001b[K     |██████████████                  | 1.1 MB 11.7 MB/s eta 0:00:01\r",
      "\u001b[K     |██████████████                  | 1.1 MB 11.7 MB/s eta 0:00:01\r",
      "\u001b[K     |██████████████▏                 | 1.1 MB 11.7 MB/s eta 0:00:01\r",
      "\u001b[K     |██████████████▎                 | 1.1 MB 11.7 MB/s eta 0:00:01\r",
      "\u001b[K     |██████████████▌                 | 1.1 MB 11.7 MB/s eta 0:00:01\r",
      "\u001b[K     |██████████████▋                 | 1.1 MB 11.7 MB/s eta 0:00:01\r",
      "\u001b[K     |██████████████▊                 | 1.1 MB 11.7 MB/s eta 0:00:01\r",
      "\u001b[K     |██████████████▉                 | 1.1 MB 11.7 MB/s eta 0:00:01\r",
      "\u001b[K     |███████████████                 | 1.1 MB 11.7 MB/s eta 0:00:01\r",
      "\u001b[K     |███████████████▏                | 1.2 MB 11.7 MB/s eta 0:00:01\r",
      "\u001b[K     |███████████████▎                | 1.2 MB 11.7 MB/s eta 0:00:01\r",
      "\u001b[K     |███████████████▍                | 1.2 MB 11.7 MB/s eta 0:00:01\r",
      "\u001b[K     |███████████████▌                | 1.2 MB 11.7 MB/s eta 0:00:01\r",
      "\u001b[K     |███████████████▋                | 1.2 MB 11.7 MB/s eta 0:00:01\r",
      "\u001b[K     |███████████████▉                | 1.2 MB 11.7 MB/s eta 0:00:01\r",
      "\u001b[K     |████████████████                | 1.2 MB 11.7 MB/s eta 0:00:01\r",
      "\u001b[K     |████████████████                | 1.2 MB 11.7 MB/s eta 0:00:01\r",
      "\u001b[K     |████████████████▏               | 1.2 MB 11.7 MB/s eta 0:00:01\r",
      "\u001b[K     |████████████████▎               | 1.2 MB 11.7 MB/s eta 0:00:01\r",
      "\u001b[K     |████████████████▌               | 1.3 MB 11.7 MB/s eta 0:00:01\r",
      "\u001b[K     |████████████████▋               | 1.3 MB 11.7 MB/s eta 0:00:01\r",
      "\u001b[K     |████████████████▊               | 1.3 MB 11.7 MB/s eta 0:00:01\r",
      "\u001b[K     |████████████████▉               | 1.3 MB 11.7 MB/s eta 0:00:01\r",
      "\u001b[K     |█████████████████               | 1.3 MB 11.7 MB/s eta 0:00:01\r",
      "\u001b[K     |█████████████████▏              | 1.3 MB 11.7 MB/s eta 0:00:01\r",
      "\u001b[K     |█████████████████▎              | 1.3 MB 11.7 MB/s eta 0:00:01\r",
      "\u001b[K     |█████████████████▍              | 1.3 MB 11.7 MB/s eta 0:00:01\r",
      "\u001b[K     |█████████████████▌              | 1.3 MB 11.7 MB/s eta 0:00:01\r",
      "\u001b[K     |█████████████████▋              | 1.4 MB 11.7 MB/s eta 0:00:01\r",
      "\u001b[K     |█████████████████▉              | 1.4 MB 11.7 MB/s eta 0:00:01\r",
      "\u001b[K     |██████████████████              | 1.4 MB 11.7 MB/s eta 0:00:01\r",
      "\u001b[K     |██████████████████              | 1.4 MB 11.7 MB/s eta 0:00:01\r",
      "\u001b[K     |██████████████████▏             | 1.4 MB 11.7 MB/s eta 0:00:01\r",
      "\u001b[K     |██████████████████▎             | 1.4 MB 11.7 MB/s eta 0:00:01\r",
      "\u001b[K     |██████████████████▌             | 1.4 MB 11.7 MB/s eta 0:00:01\r",
      "\u001b[K     |██████████████████▋             | 1.4 MB 11.7 MB/s eta 0:00:01\r",
      "\u001b[K     |██████████████████▊             | 1.4 MB 11.7 MB/s eta 0:00:01\r",
      "\u001b[K     |██████████████████▉             | 1.4 MB 11.7 MB/s eta 0:00:01\r",
      "\u001b[K     |███████████████████             | 1.5 MB 11.7 MB/s eta 0:00:01\r",
      "\u001b[K     |███████████████████▏            | 1.5 MB 11.7 MB/s eta 0:00:01\r",
      "\u001b[K     |███████████████████▎            | 1.5 MB 11.7 MB/s eta 0:00:01\r",
      "\u001b[K     |███████████████████▍            | 1.5 MB 11.7 MB/s eta 0:00:01\r",
      "\u001b[K     |███████████████████▌            | 1.5 MB 11.7 MB/s eta 0:00:01\r",
      "\u001b[K     |███████████████████▊            | 1.5 MB 11.7 MB/s eta 0:00:01\r",
      "\u001b[K     |███████████████████▉            | 1.5 MB 11.7 MB/s eta 0:00:01\r",
      "\u001b[K     |████████████████████            | 1.5 MB 11.7 MB/s eta 0:00:01\r",
      "\u001b[K     |████████████████████            | 1.5 MB 11.7 MB/s eta 0:00:01\r",
      "\u001b[K     |████████████████████▏           | 1.5 MB 11.7 MB/s eta 0:00:01\r",
      "\u001b[K     |████████████████████▍           | 1.6 MB 11.7 MB/s eta 0:00:01\r",
      "\u001b[K     |████████████████████▌           | 1.6 MB 11.7 MB/s eta 0:00:01\r",
      "\u001b[K     |████████████████████▋           | 1.6 MB 11.7 MB/s eta 0:00:01\r",
      "\u001b[K     |████████████████████▊           | 1.6 MB 11.7 MB/s eta 0:00:01\r",
      "\u001b[K     |████████████████████▉           | 1.6 MB 11.7 MB/s eta 0:00:01\r",
      "\u001b[K     |█████████████████████           | 1.6 MB 11.7 MB/s eta 0:00:01\r",
      "\u001b[K     |█████████████████████▏          | 1.6 MB 11.7 MB/s eta 0:00:01\r",
      "\u001b[K     |█████████████████████▎          | 1.6 MB 11.7 MB/s eta 0:00:01\r",
      "\u001b[K     |█████████████████████▍          | 1.6 MB 11.7 MB/s eta 0:00:01\r",
      "\u001b[K     |█████████████████████▌          | 1.6 MB 11.7 MB/s eta 0:00:01\r",
      "\u001b[K     |█████████████████████▊          | 1.7 MB 11.7 MB/s eta 0:00:01\r",
      "\u001b[K     |█████████████████████▉          | 1.7 MB 11.7 MB/s eta 0:00:01\r",
      "\u001b[K     |██████████████████████          | 1.7 MB 11.7 MB/s eta 0:00:01\r",
      "\u001b[K     |██████████████████████          | 1.7 MB 11.7 MB/s eta 0:00:01\r",
      "\u001b[K     |██████████████████████▏         | 1.7 MB 11.7 MB/s eta 0:00:01\r",
      "\u001b[K     |██████████████████████▍         | 1.7 MB 11.7 MB/s eta 0:00:01\r",
      "\u001b[K     |██████████████████████▌         | 1.7 MB 11.7 MB/s eta 0:00:01\r",
      "\u001b[K     |██████████████████████▋         | 1.7 MB 11.7 MB/s eta 0:00:01\r",
      "\u001b[K     |██████████████████████▊         | 1.7 MB 11.7 MB/s eta 0:00:01\r",
      "\u001b[K     |██████████████████████▉         | 1.8 MB 11.7 MB/s eta 0:00:01\r",
      "\u001b[K     |███████████████████████         | 1.8 MB 11.7 MB/s eta 0:00:01\r",
      "\u001b[K     |███████████████████████▏        | 1.8 MB 11.7 MB/s eta 0:00:01\r",
      "\u001b[K     |███████████████████████▎        | 1.8 MB 11.7 MB/s eta 0:00:01\r",
      "\u001b[K     |███████████████████████▍        | 1.8 MB 11.7 MB/s eta 0:00:01\r",
      "\u001b[K     |███████████████████████▌        | 1.8 MB 11.7 MB/s eta 0:00:01\r",
      "\u001b[K     |███████████████████████▊        | 1.8 MB 11.7 MB/s eta 0:00:01\r",
      "\u001b[K     |███████████████████████▉        | 1.8 MB 11.7 MB/s eta 0:00:01\r",
      "\u001b[K     |████████████████████████        | 1.8 MB 11.7 MB/s eta 0:00:01\r",
      "\u001b[K     |████████████████████████        | 1.8 MB 11.7 MB/s eta 0:00:01\r",
      "\u001b[K     |████████████████████████▏       | 1.9 MB 11.7 MB/s eta 0:00:01\r",
      "\u001b[K     |████████████████████████▍       | 1.9 MB 11.7 MB/s eta 0:00:01\r",
      "\u001b[K     |████████████████████████▌       | 1.9 MB 11.7 MB/s eta 0:00:01\r",
      "\u001b[K     |████████████████████████▋       | 1.9 MB 11.7 MB/s eta 0:00:01\r",
      "\u001b[K     |████████████████████████▊       | 1.9 MB 11.7 MB/s eta 0:00:01\r",
      "\u001b[K     |████████████████████████▉       | 1.9 MB 11.7 MB/s eta 0:00:01\r",
      "\u001b[K     |█████████████████████████       | 1.9 MB 11.7 MB/s eta 0:00:01\r",
      "\u001b[K     |█████████████████████████▏      | 1.9 MB 11.7 MB/s eta 0:00:01\r",
      "\u001b[K     |█████████████████████████▎      | 1.9 MB 11.7 MB/s eta 0:00:01\r",
      "\u001b[K     |█████████████████████████▍      | 1.9 MB 11.7 MB/s eta 0:00:01\r",
      "\u001b[K     |█████████████████████████▋      | 2.0 MB 11.7 MB/s eta 0:00:01\r",
      "\u001b[K     |█████████████████████████▊      | 2.0 MB 11.7 MB/s eta 0:00:01\r",
      "\u001b[K     |█████████████████████████▉      | 2.0 MB 11.7 MB/s eta 0:00:01\r",
      "\u001b[K     |██████████████████████████      | 2.0 MB 11.7 MB/s eta 0:00:01\r",
      "\u001b[K     |██████████████████████████      | 2.0 MB 11.7 MB/s eta 0:00:01\r",
      "\u001b[K     |██████████████████████████▎     | 2.0 MB 11.7 MB/s eta 0:00:01\r",
      "\u001b[K     |██████████████████████████▍     | 2.0 MB 11.7 MB/s eta 0:00:01\r",
      "\u001b[K     |██████████████████████████▌     | 2.0 MB 11.7 MB/s eta 0:00:01\r",
      "\u001b[K     |██████████████████████████▋     | 2.0 MB 11.7 MB/s eta 0:00:01\r",
      "\u001b[K     |██████████████████████████▊     | 2.0 MB 11.7 MB/s eta 0:00:01\r",
      "\u001b[K     |███████████████████████████     | 2.1 MB 11.7 MB/s eta 0:00:01\r",
      "\u001b[K     |███████████████████████████     | 2.1 MB 11.7 MB/s eta 0:00:01\r",
      "\u001b[K     |███████████████████████████▏    | 2.1 MB 11.7 MB/s eta 0:00:01\r",
      "\u001b[K     |███████████████████████████▎    | 2.1 MB 11.7 MB/s eta 0:00:01\r",
      "\u001b[K     |███████████████████████████▍    | 2.1 MB 11.7 MB/s eta 0:00:01\r",
      "\u001b[K     |███████████████████████████▋    | 2.1 MB 11.7 MB/s eta 0:00:01\r",
      "\u001b[K     |███████████████████████████▊    | 2.1 MB 11.7 MB/s eta 0:00:01\r",
      "\u001b[K     |███████████████████████████▉    | 2.1 MB 11.7 MB/s eta 0:00:01\r",
      "\u001b[K     |████████████████████████████    | 2.1 MB 11.7 MB/s eta 0:00:01\r",
      "\u001b[K     |████████████████████████████    | 2.2 MB 11.7 MB/s eta 0:00:01\r",
      "\u001b[K     |████████████████████████████▎   | 2.2 MB 11.7 MB/s eta 0:00:01\r",
      "\u001b[K     |████████████████████████████▍   | 2.2 MB 11.7 MB/s eta 0:00:01\r",
      "\u001b[K     |████████████████████████████▌   | 2.2 MB 11.7 MB/s eta 0:00:01\r",
      "\u001b[K     |████████████████████████████▋   | 2.2 MB 11.7 MB/s eta 0:00:01\r",
      "\u001b[K     |████████████████████████████▊   | 2.2 MB 11.7 MB/s eta 0:00:01\r",
      "\u001b[K     |█████████████████████████████   | 2.2 MB 11.7 MB/s eta 0:00:01\r",
      "\u001b[K     |█████████████████████████████   | 2.2 MB 11.7 MB/s eta 0:00:01\r",
      "\u001b[K     |█████████████████████████████▏  | 2.2 MB 11.7 MB/s eta 0:00:01\r",
      "\u001b[K     |█████████████████████████████▎  | 2.2 MB 11.7 MB/s eta 0:00:01\r",
      "\u001b[K     |█████████████████████████████▍  | 2.3 MB 11.7 MB/s eta 0:00:01\r",
      "\u001b[K     |█████████████████████████████▋  | 2.3 MB 11.7 MB/s eta 0:00:01\r",
      "\u001b[K     |█████████████████████████████▊  | 2.3 MB 11.7 MB/s eta 0:00:01\r",
      "\u001b[K     |█████████████████████████████▉  | 2.3 MB 11.7 MB/s eta 0:00:01\r",
      "\u001b[K     |██████████████████████████████  | 2.3 MB 11.7 MB/s eta 0:00:01\r",
      "\u001b[K     |██████████████████████████████  | 2.3 MB 11.7 MB/s eta 0:00:01\r",
      "\u001b[K     |██████████████████████████████▎ | 2.3 MB 11.7 MB/s eta 0:00:01\r",
      "\u001b[K     |██████████████████████████████▍ | 2.3 MB 11.7 MB/s eta 0:00:01\r",
      "\u001b[K     |██████████████████████████████▌ | 2.3 MB 11.7 MB/s eta 0:00:01\r",
      "\u001b[K     |██████████████████████████████▋ | 2.3 MB 11.7 MB/s eta 0:00:01\r",
      "\u001b[K     |██████████████████████████████▊ | 2.4 MB 11.7 MB/s eta 0:00:01\r",
      "\u001b[K     |███████████████████████████████ | 2.4 MB 11.7 MB/s eta 0:00:01\r",
      "\u001b[K     |███████████████████████████████ | 2.4 MB 11.7 MB/s eta 0:00:01\r",
      "\u001b[K     |███████████████████████████████▏| 2.4 MB 11.7 MB/s eta 0:00:01\r",
      "\u001b[K     |███████████████████████████████▎| 2.4 MB 11.7 MB/s eta 0:00:01\r",
      "\u001b[K     |███████████████████████████████▍| 2.4 MB 11.7 MB/s eta 0:00:01\r",
      "\u001b[K     |███████████████████████████████▋| 2.4 MB 11.7 MB/s eta 0:00:01\r",
      "\u001b[K     |███████████████████████████████▊| 2.4 MB 11.7 MB/s eta 0:00:01\r",
      "\u001b[K     |███████████████████████████████▉| 2.4 MB 11.7 MB/s eta 0:00:01\r",
      "\u001b[K     |████████████████████████████████| 2.4 MB 11.7 MB/s eta 0:00:01\r",
      "\u001b[K     |████████████████████████████████| 2.4 MB 11.7 MB/s \n",
      "\u001b[?25hRequirement already satisfied: pandas>=1.2.0 in /usr/local/lib/python3.7/dist-packages (from pyreadstat) (1.3.5)\n",
      "Requirement already satisfied: python-dateutil>=2.7.3 in /usr/local/lib/python3.7/dist-packages (from pandas>=1.2.0->pyreadstat) (2.8.2)\n",
      "Requirement already satisfied: numpy>=1.17.3 in /usr/local/lib/python3.7/dist-packages (from pandas>=1.2.0->pyreadstat) (1.21.5)\n",
      "Requirement already satisfied: pytz>=2017.3 in /usr/local/lib/python3.7/dist-packages (from pandas>=1.2.0->pyreadstat) (2018.9)\n",
      "Requirement already satisfied: six>=1.5 in /usr/local/lib/python3.7/dist-packages (from python-dateutil>=2.7.3->pandas>=1.2.0->pyreadstat) (1.15.0)\n",
      "Installing collected packages: pyreadstat\n",
      "Successfully installed pyreadstat-1.1.4\n"
     ]
    }
   ],
   "source": [
    "!pip install pyreadstat"
   ]
  },
  {
   "cell_type": "code",
   "execution_count": null,
   "metadata": {
    "id": "VJ5yW6VW8uVd"
   },
   "outputs": [],
   "source": [
    "import pandas as pd\n",
    "import numpy as np\n",
    "import matplotlib.pyplot as plt\n",
    "import seaborn as sns"
   ]
  },
  {
   "cell_type": "code",
   "execution_count": null,
   "metadata": {
    "id": "T33qj1AB-19r"
   },
   "outputs": [],
   "source": [
    "df = pd.read_spss(\"1ResearchProjectData.sav\")"
   ]
  },
  {
   "cell_type": "code",
   "execution_count": null,
   "metadata": {
    "colab": {
     "base_uri": "https://localhost:8080/",
     "height": 206
    },
    "id": "mfWu-IBVBCW4",
    "outputId": "33188f06-fc24-4c60-f37b-9e33a6f3b549"
   },
   "outputs": [
    {
     "data": {
      "text/html": [
       "\n",
       "  <div id=\"df-8484d54a-3bf2-4ef0-86cc-8727f0e824bf\">\n",
       "    <div class=\"colab-df-container\">\n",
       "      <div>\n",
       "<style scoped>\n",
       "    .dataframe tbody tr th:only-of-type {\n",
       "        vertical-align: middle;\n",
       "    }\n",
       "\n",
       "    .dataframe tbody tr th {\n",
       "        vertical-align: top;\n",
       "    }\n",
       "\n",
       "    .dataframe thead th {\n",
       "        text-align: right;\n",
       "    }\n",
       "</style>\n",
       "<table border=\"1\" class=\"dataframe\">\n",
       "  <thead>\n",
       "    <tr style=\"text-align: right;\">\n",
       "      <th></th>\n",
       "      <th>Student</th>\n",
       "      <th>Teacher</th>\n",
       "      <th>Gender</th>\n",
       "      <th>Ethnic</th>\n",
       "      <th>Freeredu</th>\n",
       "      <th>Score</th>\n",
       "      <th>wesson</th>\n",
       "    </tr>\n",
       "  </thead>\n",
       "  <tbody>\n",
       "    <tr>\n",
       "      <th>0</th>\n",
       "      <td>1.0</td>\n",
       "      <td>Ruger</td>\n",
       "      <td>Female</td>\n",
       "      <td>Asian</td>\n",
       "      <td>Free lunch</td>\n",
       "      <td>76.0</td>\n",
       "      <td>Ruger_Smith</td>\n",
       "    </tr>\n",
       "    <tr>\n",
       "      <th>1</th>\n",
       "      <td>2.0</td>\n",
       "      <td>Ruger</td>\n",
       "      <td>Female</td>\n",
       "      <td>Hispanic</td>\n",
       "      <td>Paid lunch</td>\n",
       "      <td>56.0</td>\n",
       "      <td>Ruger_Smith</td>\n",
       "    </tr>\n",
       "    <tr>\n",
       "      <th>2</th>\n",
       "      <td>3.0</td>\n",
       "      <td>Ruger</td>\n",
       "      <td>Female</td>\n",
       "      <td>African-American</td>\n",
       "      <td>Free lunch</td>\n",
       "      <td>34.0</td>\n",
       "      <td>Ruger_Smith</td>\n",
       "    </tr>\n",
       "    <tr>\n",
       "      <th>3</th>\n",
       "      <td>4.0</td>\n",
       "      <td>Ruger</td>\n",
       "      <td>Female</td>\n",
       "      <td>Asian</td>\n",
       "      <td>Paid lunch</td>\n",
       "      <td>59.0</td>\n",
       "      <td>Ruger_Smith</td>\n",
       "    </tr>\n",
       "    <tr>\n",
       "      <th>4</th>\n",
       "      <td>5.0</td>\n",
       "      <td>Ruger</td>\n",
       "      <td>Male</td>\n",
       "      <td>Hispanic</td>\n",
       "      <td>Free lunch</td>\n",
       "      <td>73.0</td>\n",
       "      <td>Ruger_Smith</td>\n",
       "    </tr>\n",
       "  </tbody>\n",
       "</table>\n",
       "</div>\n",
       "      <button class=\"colab-df-convert\" onclick=\"convertToInteractive('df-8484d54a-3bf2-4ef0-86cc-8727f0e824bf')\"\n",
       "              title=\"Convert this dataframe to an interactive table.\"\n",
       "              style=\"display:none;\">\n",
       "        \n",
       "  <svg xmlns=\"http://www.w3.org/2000/svg\" height=\"24px\"viewBox=\"0 0 24 24\"\n",
       "       width=\"24px\">\n",
       "    <path d=\"M0 0h24v24H0V0z\" fill=\"none\"/>\n",
       "    <path d=\"M18.56 5.44l.94 2.06.94-2.06 2.06-.94-2.06-.94-.94-2.06-.94 2.06-2.06.94zm-11 1L8.5 8.5l.94-2.06 2.06-.94-2.06-.94L8.5 2.5l-.94 2.06-2.06.94zm10 10l.94 2.06.94-2.06 2.06-.94-2.06-.94-.94-2.06-.94 2.06-2.06.94z\"/><path d=\"M17.41 7.96l-1.37-1.37c-.4-.4-.92-.59-1.43-.59-.52 0-1.04.2-1.43.59L10.3 9.45l-7.72 7.72c-.78.78-.78 2.05 0 2.83L4 21.41c.39.39.9.59 1.41.59.51 0 1.02-.2 1.41-.59l7.78-7.78 2.81-2.81c.8-.78.8-2.07 0-2.86zM5.41 20L4 18.59l7.72-7.72 1.47 1.35L5.41 20z\"/>\n",
       "  </svg>\n",
       "      </button>\n",
       "      \n",
       "  <style>\n",
       "    .colab-df-container {\n",
       "      display:flex;\n",
       "      flex-wrap:wrap;\n",
       "      gap: 12px;\n",
       "    }\n",
       "\n",
       "    .colab-df-convert {\n",
       "      background-color: #E8F0FE;\n",
       "      border: none;\n",
       "      border-radius: 50%;\n",
       "      cursor: pointer;\n",
       "      display: none;\n",
       "      fill: #1967D2;\n",
       "      height: 32px;\n",
       "      padding: 0 0 0 0;\n",
       "      width: 32px;\n",
       "    }\n",
       "\n",
       "    .colab-df-convert:hover {\n",
       "      background-color: #E2EBFA;\n",
       "      box-shadow: 0px 1px 2px rgba(60, 64, 67, 0.3), 0px 1px 3px 1px rgba(60, 64, 67, 0.15);\n",
       "      fill: #174EA6;\n",
       "    }\n",
       "\n",
       "    [theme=dark] .colab-df-convert {\n",
       "      background-color: #3B4455;\n",
       "      fill: #D2E3FC;\n",
       "    }\n",
       "\n",
       "    [theme=dark] .colab-df-convert:hover {\n",
       "      background-color: #434B5C;\n",
       "      box-shadow: 0px 1px 3px 1px rgba(0, 0, 0, 0.15);\n",
       "      filter: drop-shadow(0px 1px 2px rgba(0, 0, 0, 0.3));\n",
       "      fill: #FFFFFF;\n",
       "    }\n",
       "  </style>\n",
       "\n",
       "      <script>\n",
       "        const buttonEl =\n",
       "          document.querySelector('#df-8484d54a-3bf2-4ef0-86cc-8727f0e824bf button.colab-df-convert');\n",
       "        buttonEl.style.display =\n",
       "          google.colab.kernel.accessAllowed ? 'block' : 'none';\n",
       "\n",
       "        async function convertToInteractive(key) {\n",
       "          const element = document.querySelector('#df-8484d54a-3bf2-4ef0-86cc-8727f0e824bf');\n",
       "          const dataTable =\n",
       "            await google.colab.kernel.invokeFunction('convertToInteractive',\n",
       "                                                     [key], {});\n",
       "          if (!dataTable) return;\n",
       "\n",
       "          const docLinkHtml = 'Like what you see? Visit the ' +\n",
       "            '<a target=\"_blank\" href=https://colab.research.google.com/notebooks/data_table.ipynb>data table notebook</a>'\n",
       "            + ' to learn more about interactive tables.';\n",
       "          element.innerHTML = '';\n",
       "          dataTable['output_type'] = 'display_data';\n",
       "          await google.colab.output.renderOutput(dataTable, element);\n",
       "          const docLink = document.createElement('div');\n",
       "          docLink.innerHTML = docLinkHtml;\n",
       "          element.appendChild(docLink);\n",
       "        }\n",
       "      </script>\n",
       "    </div>\n",
       "  </div>\n",
       "  "
      ],
      "text/plain": [
       "   Student Teacher  Gender            Ethnic    Freeredu  Score       wesson\n",
       "0      1.0   Ruger  Female             Asian  Free lunch   76.0  Ruger_Smith\n",
       "1      2.0   Ruger  Female          Hispanic  Paid lunch   56.0  Ruger_Smith\n",
       "2      3.0   Ruger  Female  African-American  Free lunch   34.0  Ruger_Smith\n",
       "3      4.0   Ruger  Female             Asian  Paid lunch   59.0  Ruger_Smith\n",
       "4      5.0   Ruger    Male          Hispanic  Free lunch   73.0  Ruger_Smith"
      ]
     },
     "execution_count": 13,
     "metadata": {},
     "output_type": "execute_result"
    }
   ],
   "source": [
    "df.head()"
   ]
  },
  {
   "cell_type": "code",
   "execution_count": null,
   "metadata": {
    "colab": {
     "base_uri": "https://localhost:8080/"
    },
    "id": "-l1bpKeTD2kc",
    "outputId": "182aedbc-b7f5-446e-b679-1775e90717cb"
   },
   "outputs": [
    {
     "name": "stdout",
     "output_type": "stream",
     "text": [
      "<class 'pandas.core.frame.DataFrame'>\n",
      "RangeIndex: 217 entries, 0 to 216\n",
      "Data columns (total 7 columns):\n",
      " #   Column    Non-Null Count  Dtype   \n",
      "---  ------    --------------  -----   \n",
      " 0   Student   216 non-null    float64 \n",
      " 1   Teacher   216 non-null    category\n",
      " 2   Gender    216 non-null    category\n",
      " 3   Ethnic    216 non-null    category\n",
      " 4   Freeredu  216 non-null    category\n",
      " 5   Score     216 non-null    float64 \n",
      " 6   wesson    217 non-null    category\n",
      "dtypes: category(5), float64(2)\n",
      "memory usage: 5.3 KB\n"
     ]
    }
   ],
   "source": [
    "df.info()"
   ]
  },
  {
   "cell_type": "code",
   "execution_count": null,
   "metadata": {
    "colab": {
     "base_uri": "https://localhost:8080/"
    },
    "id": "NTfstXtsEHdp",
    "outputId": "386ec5fa-5749-4d4c-b4cc-7817c2b9b54b"
   },
   "outputs": [
    {
     "data": {
      "text/plain": [
       "(217, 7)"
      ]
     },
     "execution_count": 15,
     "metadata": {},
     "output_type": "execute_result"
    }
   ],
   "source": [
    "df.shape"
   ]
  },
  {
   "cell_type": "code",
   "execution_count": null,
   "metadata": {
    "id": "1COs_NMaEYUG"
   },
   "outputs": [],
   "source": [
    "df.dropna(inplace=True)"
   ]
  },
  {
   "cell_type": "code",
   "execution_count": null,
   "metadata": {
    "colab": {
     "base_uri": "https://localhost:8080/"
    },
    "id": "ymVIHb4EFZ_N",
    "outputId": "47ecd898-a0ab-4b25-e81c-ac350268f4a5"
   },
   "outputs": [
    {
     "name": "stdout",
     "output_type": "stream",
     "text": [
      "<class 'pandas.core.frame.DataFrame'>\n",
      "Int64Index: 216 entries, 0 to 215\n",
      "Data columns (total 7 columns):\n",
      " #   Column    Non-Null Count  Dtype   \n",
      "---  ------    --------------  -----   \n",
      " 0   Student   216 non-null    float64 \n",
      " 1   Teacher   216 non-null    category\n",
      " 2   Gender    216 non-null    category\n",
      " 3   Ethnic    216 non-null    category\n",
      " 4   Freeredu  216 non-null    category\n",
      " 5   Score     216 non-null    float64 \n",
      " 6   wesson    216 non-null    category\n",
      "dtypes: category(5), float64(2)\n",
      "memory usage: 6.8 KB\n"
     ]
    }
   ],
   "source": [
    "df.info()"
   ]
  },
  {
   "cell_type": "code",
   "execution_count": null,
   "metadata": {
    "colab": {
     "base_uri": "https://localhost:8080/"
    },
    "id": "_Em1BqOJFoUP",
    "outputId": "7b6912b4-e5a4-402e-9202-64308ab9323f"
   },
   "outputs": [
    {
     "data": {
      "text/plain": [
       "(216, 7)"
      ]
     },
     "execution_count": 18,
     "metadata": {},
     "output_type": "execute_result"
    }
   ],
   "source": [
    "df.shape"
   ]
  },
  {
   "cell_type": "code",
   "execution_count": null,
   "metadata": {
    "colab": {
     "base_uri": "https://localhost:8080/"
    },
    "id": "-LL4qwZMFsBp",
    "outputId": "5d94a067-04dc-4b2e-c256-1d623f11b5cb"
   },
   "outputs": [
    {
     "data": {
      "text/plain": [
       "Student     0\n",
       "Teacher     0\n",
       "Gender      0\n",
       "Ethnic      0\n",
       "Freeredu    0\n",
       "Score       0\n",
       "wesson      0\n",
       "dtype: int64"
      ]
     },
     "execution_count": 19,
     "metadata": {},
     "output_type": "execute_result"
    }
   ],
   "source": [
    "df.isnull().sum()"
   ]
  },
  {
   "cell_type": "code",
   "execution_count": null,
   "metadata": {
    "id": "N-QzKyFbGZHW"
   },
   "outputs": [],
   "source": [
    "df['Method'] = df['wesson'].apply(lambda x: 'Standard' if 'Ruger_Smith' in x else 'Traditional')"
   ]
  },
  {
   "cell_type": "code",
   "execution_count": null,
   "metadata": {
    "colab": {
     "base_uri": "https://localhost:8080/",
     "height": 206
    },
    "id": "VYXIx6dQHHSi",
    "outputId": "feea6f5b-e3d4-4881-deb0-d96148d0bb2b"
   },
   "outputs": [
    {
     "data": {
      "text/html": [
       "\n",
       "  <div id=\"df-399adc11-3535-4685-a9a4-0706f2661609\">\n",
       "    <div class=\"colab-df-container\">\n",
       "      <div>\n",
       "<style scoped>\n",
       "    .dataframe tbody tr th:only-of-type {\n",
       "        vertical-align: middle;\n",
       "    }\n",
       "\n",
       "    .dataframe tbody tr th {\n",
       "        vertical-align: top;\n",
       "    }\n",
       "\n",
       "    .dataframe thead th {\n",
       "        text-align: right;\n",
       "    }\n",
       "</style>\n",
       "<table border=\"1\" class=\"dataframe\">\n",
       "  <thead>\n",
       "    <tr style=\"text-align: right;\">\n",
       "      <th></th>\n",
       "      <th>Student</th>\n",
       "      <th>Teacher</th>\n",
       "      <th>Gender</th>\n",
       "      <th>Ethnic</th>\n",
       "      <th>Freeredu</th>\n",
       "      <th>Score</th>\n",
       "      <th>wesson</th>\n",
       "      <th>Method</th>\n",
       "    </tr>\n",
       "  </thead>\n",
       "  <tbody>\n",
       "    <tr>\n",
       "      <th>0</th>\n",
       "      <td>1.0</td>\n",
       "      <td>Ruger</td>\n",
       "      <td>Female</td>\n",
       "      <td>Asian</td>\n",
       "      <td>Free lunch</td>\n",
       "      <td>76.0</td>\n",
       "      <td>Ruger_Smith</td>\n",
       "      <td>Standard</td>\n",
       "    </tr>\n",
       "    <tr>\n",
       "      <th>1</th>\n",
       "      <td>2.0</td>\n",
       "      <td>Ruger</td>\n",
       "      <td>Female</td>\n",
       "      <td>Hispanic</td>\n",
       "      <td>Paid lunch</td>\n",
       "      <td>56.0</td>\n",
       "      <td>Ruger_Smith</td>\n",
       "      <td>Standard</td>\n",
       "    </tr>\n",
       "    <tr>\n",
       "      <th>2</th>\n",
       "      <td>3.0</td>\n",
       "      <td>Ruger</td>\n",
       "      <td>Female</td>\n",
       "      <td>African-American</td>\n",
       "      <td>Free lunch</td>\n",
       "      <td>34.0</td>\n",
       "      <td>Ruger_Smith</td>\n",
       "      <td>Standard</td>\n",
       "    </tr>\n",
       "    <tr>\n",
       "      <th>3</th>\n",
       "      <td>4.0</td>\n",
       "      <td>Ruger</td>\n",
       "      <td>Female</td>\n",
       "      <td>Asian</td>\n",
       "      <td>Paid lunch</td>\n",
       "      <td>59.0</td>\n",
       "      <td>Ruger_Smith</td>\n",
       "      <td>Standard</td>\n",
       "    </tr>\n",
       "    <tr>\n",
       "      <th>4</th>\n",
       "      <td>5.0</td>\n",
       "      <td>Ruger</td>\n",
       "      <td>Male</td>\n",
       "      <td>Hispanic</td>\n",
       "      <td>Free lunch</td>\n",
       "      <td>73.0</td>\n",
       "      <td>Ruger_Smith</td>\n",
       "      <td>Standard</td>\n",
       "    </tr>\n",
       "  </tbody>\n",
       "</table>\n",
       "</div>\n",
       "      <button class=\"colab-df-convert\" onclick=\"convertToInteractive('df-399adc11-3535-4685-a9a4-0706f2661609')\"\n",
       "              title=\"Convert this dataframe to an interactive table.\"\n",
       "              style=\"display:none;\">\n",
       "        \n",
       "  <svg xmlns=\"http://www.w3.org/2000/svg\" height=\"24px\"viewBox=\"0 0 24 24\"\n",
       "       width=\"24px\">\n",
       "    <path d=\"M0 0h24v24H0V0z\" fill=\"none\"/>\n",
       "    <path d=\"M18.56 5.44l.94 2.06.94-2.06 2.06-.94-2.06-.94-.94-2.06-.94 2.06-2.06.94zm-11 1L8.5 8.5l.94-2.06 2.06-.94-2.06-.94L8.5 2.5l-.94 2.06-2.06.94zm10 10l.94 2.06.94-2.06 2.06-.94-2.06-.94-.94-2.06-.94 2.06-2.06.94z\"/><path d=\"M17.41 7.96l-1.37-1.37c-.4-.4-.92-.59-1.43-.59-.52 0-1.04.2-1.43.59L10.3 9.45l-7.72 7.72c-.78.78-.78 2.05 0 2.83L4 21.41c.39.39.9.59 1.41.59.51 0 1.02-.2 1.41-.59l7.78-7.78 2.81-2.81c.8-.78.8-2.07 0-2.86zM5.41 20L4 18.59l7.72-7.72 1.47 1.35L5.41 20z\"/>\n",
       "  </svg>\n",
       "      </button>\n",
       "      \n",
       "  <style>\n",
       "    .colab-df-container {\n",
       "      display:flex;\n",
       "      flex-wrap:wrap;\n",
       "      gap: 12px;\n",
       "    }\n",
       "\n",
       "    .colab-df-convert {\n",
       "      background-color: #E8F0FE;\n",
       "      border: none;\n",
       "      border-radius: 50%;\n",
       "      cursor: pointer;\n",
       "      display: none;\n",
       "      fill: #1967D2;\n",
       "      height: 32px;\n",
       "      padding: 0 0 0 0;\n",
       "      width: 32px;\n",
       "    }\n",
       "\n",
       "    .colab-df-convert:hover {\n",
       "      background-color: #E2EBFA;\n",
       "      box-shadow: 0px 1px 2px rgba(60, 64, 67, 0.3), 0px 1px 3px 1px rgba(60, 64, 67, 0.15);\n",
       "      fill: #174EA6;\n",
       "    }\n",
       "\n",
       "    [theme=dark] .colab-df-convert {\n",
       "      background-color: #3B4455;\n",
       "      fill: #D2E3FC;\n",
       "    }\n",
       "\n",
       "    [theme=dark] .colab-df-convert:hover {\n",
       "      background-color: #434B5C;\n",
       "      box-shadow: 0px 1px 3px 1px rgba(0, 0, 0, 0.15);\n",
       "      filter: drop-shadow(0px 1px 2px rgba(0, 0, 0, 0.3));\n",
       "      fill: #FFFFFF;\n",
       "    }\n",
       "  </style>\n",
       "\n",
       "      <script>\n",
       "        const buttonEl =\n",
       "          document.querySelector('#df-399adc11-3535-4685-a9a4-0706f2661609 button.colab-df-convert');\n",
       "        buttonEl.style.display =\n",
       "          google.colab.kernel.accessAllowed ? 'block' : 'none';\n",
       "\n",
       "        async function convertToInteractive(key) {\n",
       "          const element = document.querySelector('#df-399adc11-3535-4685-a9a4-0706f2661609');\n",
       "          const dataTable =\n",
       "            await google.colab.kernel.invokeFunction('convertToInteractive',\n",
       "                                                     [key], {});\n",
       "          if (!dataTable) return;\n",
       "\n",
       "          const docLinkHtml = 'Like what you see? Visit the ' +\n",
       "            '<a target=\"_blank\" href=https://colab.research.google.com/notebooks/data_table.ipynb>data table notebook</a>'\n",
       "            + ' to learn more about interactive tables.';\n",
       "          element.innerHTML = '';\n",
       "          dataTable['output_type'] = 'display_data';\n",
       "          await google.colab.output.renderOutput(dataTable, element);\n",
       "          const docLink = document.createElement('div');\n",
       "          docLink.innerHTML = docLinkHtml;\n",
       "          element.appendChild(docLink);\n",
       "        }\n",
       "      </script>\n",
       "    </div>\n",
       "  </div>\n",
       "  "
      ],
      "text/plain": [
       "   Student Teacher  Gender            Ethnic    Freeredu  Score       wesson  \\\n",
       "0      1.0   Ruger  Female             Asian  Free lunch   76.0  Ruger_Smith   \n",
       "1      2.0   Ruger  Female          Hispanic  Paid lunch   56.0  Ruger_Smith   \n",
       "2      3.0   Ruger  Female  African-American  Free lunch   34.0  Ruger_Smith   \n",
       "3      4.0   Ruger  Female             Asian  Paid lunch   59.0  Ruger_Smith   \n",
       "4      5.0   Ruger    Male          Hispanic  Free lunch   73.0  Ruger_Smith   \n",
       "\n",
       "     Method  \n",
       "0  Standard  \n",
       "1  Standard  \n",
       "2  Standard  \n",
       "3  Standard  \n",
       "4  Standard  "
      ]
     },
     "execution_count": 21,
     "metadata": {},
     "output_type": "execute_result"
    }
   ],
   "source": [
    "df.head()"
   ]
  },
  {
   "cell_type": "code",
   "execution_count": null,
   "metadata": {
    "colab": {
     "base_uri": "https://localhost:8080/",
     "height": 424
    },
    "id": "_GXQoPdiHNvf",
    "outputId": "38c5e5f5-9844-4f72-ad1a-aee38a802ba2"
   },
   "outputs": [
    {
     "data": {
      "text/html": [
       "\n",
       "  <div id=\"df-fd16b52a-b5a0-48a3-a332-cfea0027c68f\">\n",
       "    <div class=\"colab-df-container\">\n",
       "      <div>\n",
       "<style scoped>\n",
       "    .dataframe tbody tr th:only-of-type {\n",
       "        vertical-align: middle;\n",
       "    }\n",
       "\n",
       "    .dataframe tbody tr th {\n",
       "        vertical-align: top;\n",
       "    }\n",
       "\n",
       "    .dataframe thead th {\n",
       "        text-align: right;\n",
       "    }\n",
       "</style>\n",
       "<table border=\"1\" class=\"dataframe\">\n",
       "  <thead>\n",
       "    <tr style=\"text-align: right;\">\n",
       "      <th></th>\n",
       "      <th>Student</th>\n",
       "      <th>Teacher</th>\n",
       "      <th>Gender</th>\n",
       "      <th>Ethnic</th>\n",
       "      <th>Freeredu</th>\n",
       "      <th>Score</th>\n",
       "      <th>wesson</th>\n",
       "      <th>Method</th>\n",
       "    </tr>\n",
       "  </thead>\n",
       "  <tbody>\n",
       "    <tr>\n",
       "      <th>0</th>\n",
       "      <td>1.0</td>\n",
       "      <td>Ruger</td>\n",
       "      <td>Female</td>\n",
       "      <td>Asian</td>\n",
       "      <td>Free lunch</td>\n",
       "      <td>76.0</td>\n",
       "      <td>Ruger_Smith</td>\n",
       "      <td>Standard</td>\n",
       "    </tr>\n",
       "    <tr>\n",
       "      <th>1</th>\n",
       "      <td>2.0</td>\n",
       "      <td>Ruger</td>\n",
       "      <td>Female</td>\n",
       "      <td>Hispanic</td>\n",
       "      <td>Paid lunch</td>\n",
       "      <td>56.0</td>\n",
       "      <td>Ruger_Smith</td>\n",
       "      <td>Standard</td>\n",
       "    </tr>\n",
       "    <tr>\n",
       "      <th>2</th>\n",
       "      <td>3.0</td>\n",
       "      <td>Ruger</td>\n",
       "      <td>Female</td>\n",
       "      <td>African-American</td>\n",
       "      <td>Free lunch</td>\n",
       "      <td>34.0</td>\n",
       "      <td>Ruger_Smith</td>\n",
       "      <td>Standard</td>\n",
       "    </tr>\n",
       "    <tr>\n",
       "      <th>3</th>\n",
       "      <td>4.0</td>\n",
       "      <td>Ruger</td>\n",
       "      <td>Female</td>\n",
       "      <td>Asian</td>\n",
       "      <td>Paid lunch</td>\n",
       "      <td>59.0</td>\n",
       "      <td>Ruger_Smith</td>\n",
       "      <td>Standard</td>\n",
       "    </tr>\n",
       "    <tr>\n",
       "      <th>4</th>\n",
       "      <td>5.0</td>\n",
       "      <td>Ruger</td>\n",
       "      <td>Male</td>\n",
       "      <td>Hispanic</td>\n",
       "      <td>Free lunch</td>\n",
       "      <td>73.0</td>\n",
       "      <td>Ruger_Smith</td>\n",
       "      <td>Standard</td>\n",
       "    </tr>\n",
       "    <tr>\n",
       "      <th>...</th>\n",
       "      <td>...</td>\n",
       "      <td>...</td>\n",
       "      <td>...</td>\n",
       "      <td>...</td>\n",
       "      <td>...</td>\n",
       "      <td>...</td>\n",
       "      <td>...</td>\n",
       "      <td>...</td>\n",
       "    </tr>\n",
       "    <tr>\n",
       "      <th>211</th>\n",
       "      <td>212.0</td>\n",
       "      <td>Wesson</td>\n",
       "      <td>Male</td>\n",
       "      <td>African-American</td>\n",
       "      <td>Paid lunch</td>\n",
       "      <td>56.0</td>\n",
       "      <td>Wesson</td>\n",
       "      <td>Traditional</td>\n",
       "    </tr>\n",
       "    <tr>\n",
       "      <th>212</th>\n",
       "      <td>213.0</td>\n",
       "      <td>Wesson</td>\n",
       "      <td>Male</td>\n",
       "      <td>Hispanic</td>\n",
       "      <td>Free lunch</td>\n",
       "      <td>94.0</td>\n",
       "      <td>Wesson</td>\n",
       "      <td>Traditional</td>\n",
       "    </tr>\n",
       "    <tr>\n",
       "      <th>213</th>\n",
       "      <td>214.0</td>\n",
       "      <td>Wesson</td>\n",
       "      <td>Male</td>\n",
       "      <td>Hispanic</td>\n",
       "      <td>Paid lunch</td>\n",
       "      <td>91.0</td>\n",
       "      <td>Wesson</td>\n",
       "      <td>Traditional</td>\n",
       "    </tr>\n",
       "    <tr>\n",
       "      <th>214</th>\n",
       "      <td>215.0</td>\n",
       "      <td>Wesson</td>\n",
       "      <td>Female</td>\n",
       "      <td>African-American</td>\n",
       "      <td>Paid lunch</td>\n",
       "      <td>53.0</td>\n",
       "      <td>Wesson</td>\n",
       "      <td>Traditional</td>\n",
       "    </tr>\n",
       "    <tr>\n",
       "      <th>215</th>\n",
       "      <td>216.0</td>\n",
       "      <td>Wesson</td>\n",
       "      <td>Male</td>\n",
       "      <td>Hispanic</td>\n",
       "      <td>Paid lunch</td>\n",
       "      <td>57.0</td>\n",
       "      <td>Wesson</td>\n",
       "      <td>Traditional</td>\n",
       "    </tr>\n",
       "  </tbody>\n",
       "</table>\n",
       "<p>216 rows × 8 columns</p>\n",
       "</div>\n",
       "      <button class=\"colab-df-convert\" onclick=\"convertToInteractive('df-fd16b52a-b5a0-48a3-a332-cfea0027c68f')\"\n",
       "              title=\"Convert this dataframe to an interactive table.\"\n",
       "              style=\"display:none;\">\n",
       "        \n",
       "  <svg xmlns=\"http://www.w3.org/2000/svg\" height=\"24px\"viewBox=\"0 0 24 24\"\n",
       "       width=\"24px\">\n",
       "    <path d=\"M0 0h24v24H0V0z\" fill=\"none\"/>\n",
       "    <path d=\"M18.56 5.44l.94 2.06.94-2.06 2.06-.94-2.06-.94-.94-2.06-.94 2.06-2.06.94zm-11 1L8.5 8.5l.94-2.06 2.06-.94-2.06-.94L8.5 2.5l-.94 2.06-2.06.94zm10 10l.94 2.06.94-2.06 2.06-.94-2.06-.94-.94-2.06-.94 2.06-2.06.94z\"/><path d=\"M17.41 7.96l-1.37-1.37c-.4-.4-.92-.59-1.43-.59-.52 0-1.04.2-1.43.59L10.3 9.45l-7.72 7.72c-.78.78-.78 2.05 0 2.83L4 21.41c.39.39.9.59 1.41.59.51 0 1.02-.2 1.41-.59l7.78-7.78 2.81-2.81c.8-.78.8-2.07 0-2.86zM5.41 20L4 18.59l7.72-7.72 1.47 1.35L5.41 20z\"/>\n",
       "  </svg>\n",
       "      </button>\n",
       "      \n",
       "  <style>\n",
       "    .colab-df-container {\n",
       "      display:flex;\n",
       "      flex-wrap:wrap;\n",
       "      gap: 12px;\n",
       "    }\n",
       "\n",
       "    .colab-df-convert {\n",
       "      background-color: #E8F0FE;\n",
       "      border: none;\n",
       "      border-radius: 50%;\n",
       "      cursor: pointer;\n",
       "      display: none;\n",
       "      fill: #1967D2;\n",
       "      height: 32px;\n",
       "      padding: 0 0 0 0;\n",
       "      width: 32px;\n",
       "    }\n",
       "\n",
       "    .colab-df-convert:hover {\n",
       "      background-color: #E2EBFA;\n",
       "      box-shadow: 0px 1px 2px rgba(60, 64, 67, 0.3), 0px 1px 3px 1px rgba(60, 64, 67, 0.15);\n",
       "      fill: #174EA6;\n",
       "    }\n",
       "\n",
       "    [theme=dark] .colab-df-convert {\n",
       "      background-color: #3B4455;\n",
       "      fill: #D2E3FC;\n",
       "    }\n",
       "\n",
       "    [theme=dark] .colab-df-convert:hover {\n",
       "      background-color: #434B5C;\n",
       "      box-shadow: 0px 1px 3px 1px rgba(0, 0, 0, 0.15);\n",
       "      filter: drop-shadow(0px 1px 2px rgba(0, 0, 0, 0.3));\n",
       "      fill: #FFFFFF;\n",
       "    }\n",
       "  </style>\n",
       "\n",
       "      <script>\n",
       "        const buttonEl =\n",
       "          document.querySelector('#df-fd16b52a-b5a0-48a3-a332-cfea0027c68f button.colab-df-convert');\n",
       "        buttonEl.style.display =\n",
       "          google.colab.kernel.accessAllowed ? 'block' : 'none';\n",
       "\n",
       "        async function convertToInteractive(key) {\n",
       "          const element = document.querySelector('#df-fd16b52a-b5a0-48a3-a332-cfea0027c68f');\n",
       "          const dataTable =\n",
       "            await google.colab.kernel.invokeFunction('convertToInteractive',\n",
       "                                                     [key], {});\n",
       "          if (!dataTable) return;\n",
       "\n",
       "          const docLinkHtml = 'Like what you see? Visit the ' +\n",
       "            '<a target=\"_blank\" href=https://colab.research.google.com/notebooks/data_table.ipynb>data table notebook</a>'\n",
       "            + ' to learn more about interactive tables.';\n",
       "          element.innerHTML = '';\n",
       "          dataTable['output_type'] = 'display_data';\n",
       "          await google.colab.output.renderOutput(dataTable, element);\n",
       "          const docLink = document.createElement('div');\n",
       "          docLink.innerHTML = docLinkHtml;\n",
       "          element.appendChild(docLink);\n",
       "        }\n",
       "      </script>\n",
       "    </div>\n",
       "  </div>\n",
       "  "
      ],
      "text/plain": [
       "     Student Teacher  Gender            Ethnic    Freeredu  Score  \\\n",
       "0        1.0   Ruger  Female             Asian  Free lunch   76.0   \n",
       "1        2.0   Ruger  Female          Hispanic  Paid lunch   56.0   \n",
       "2        3.0   Ruger  Female  African-American  Free lunch   34.0   \n",
       "3        4.0   Ruger  Female             Asian  Paid lunch   59.0   \n",
       "4        5.0   Ruger    Male          Hispanic  Free lunch   73.0   \n",
       "..       ...     ...     ...               ...         ...    ...   \n",
       "211    212.0  Wesson    Male  African-American  Paid lunch   56.0   \n",
       "212    213.0  Wesson    Male          Hispanic  Free lunch   94.0   \n",
       "213    214.0  Wesson    Male          Hispanic  Paid lunch   91.0   \n",
       "214    215.0  Wesson  Female  African-American  Paid lunch   53.0   \n",
       "215    216.0  Wesson    Male          Hispanic  Paid lunch   57.0   \n",
       "\n",
       "          wesson       Method  \n",
       "0    Ruger_Smith     Standard  \n",
       "1    Ruger_Smith     Standard  \n",
       "2    Ruger_Smith     Standard  \n",
       "3    Ruger_Smith     Standard  \n",
       "4    Ruger_Smith     Standard  \n",
       "..           ...          ...  \n",
       "211       Wesson  Traditional  \n",
       "212       Wesson  Traditional  \n",
       "213       Wesson  Traditional  \n",
       "214       Wesson  Traditional  \n",
       "215       Wesson  Traditional  \n",
       "\n",
       "[216 rows x 8 columns]"
      ]
     },
     "execution_count": 22,
     "metadata": {},
     "output_type": "execute_result"
    }
   ],
   "source": [
    "df"
   ]
  },
  {
   "cell_type": "code",
   "execution_count": null,
   "metadata": {
    "colab": {
     "base_uri": "https://localhost:8080/"
    },
    "id": "UbQ1NL5dHRA4",
    "outputId": "4158806c-1a99-468a-ca21-7b561c85ad65"
   },
   "outputs": [
    {
     "data": {
      "text/plain": [
       "Standard       140\n",
       "Traditional     76\n",
       "Name: Method, dtype: int64"
      ]
     },
     "execution_count": 23,
     "metadata": {},
     "output_type": "execute_result"
    }
   ],
   "source": [
    "df.Method.value_counts()"
   ]
  },
  {
   "cell_type": "code",
   "execution_count": null,
   "metadata": {
    "colab": {
     "base_uri": "https://localhost:8080/"
    },
    "id": "tJipPrfZILjI",
    "outputId": "8c21efff-10ca-4e82-9a8f-da1ddc1c0c32"
   },
   "outputs": [
    {
     "name": "stdout",
     "output_type": "stream",
     "text": [
      "<class 'pandas.core.frame.DataFrame'>\n",
      "Int64Index: 216 entries, 0 to 215\n",
      "Data columns (total 8 columns):\n",
      " #   Column    Non-Null Count  Dtype   \n",
      "---  ------    --------------  -----   \n",
      " 0   Student   216 non-null    float64 \n",
      " 1   Teacher   216 non-null    category\n",
      " 2   Gender    216 non-null    category\n",
      " 3   Ethnic    216 non-null    category\n",
      " 4   Freeredu  216 non-null    category\n",
      " 5   Score     216 non-null    float64 \n",
      " 6   wesson    216 non-null    category\n",
      " 7   Method    216 non-null    category\n",
      "dtypes: category(6), float64(2)\n",
      "memory usage: 7.1 KB\n"
     ]
    }
   ],
   "source": [
    "df.info()"
   ]
  },
  {
   "cell_type": "code",
   "execution_count": null,
   "metadata": {
    "colab": {
     "base_uri": "https://localhost:8080/",
     "height": 536
    },
    "id": "TPn-2xYvIabL",
    "outputId": "935c3cf8-107d-4bee-fd28-e006719f4f27"
   },
   "outputs": [
    {
     "data": {
      "image/png": "[encoded data removed]",
      "text/plain": [
       "<Figure size 720x648 with 1 Axes>"
      ]
     },
     "metadata": {},
     "output_type": "display_data"
    }
   ],
   "source": [
    "plt.figure(figsize = (10,9))\n",
    "plt.pie(df.Ethnic.value_counts().values, labels = df.Ethnic.value_counts().index, autopct = '%2.1f%%', textprops={'fontsize': 14})\n",
    "plt.title('Percentages of students according to ethnics')\n",
    "plt.show()"
   ]
  },
  {
   "cell_type": "code",
   "execution_count": null,
   "metadata": {
    "id": "gHNPhdiQJiBc"
   },
   "outputs": [],
   "source": [
    "eth_group = pd.pivot_table(df, index = 'Ethnic', columns = 'Gender', aggfunc = 'count', values = 'Score')"
   ]
  },
  {
   "cell_type": "code",
   "execution_count": null,
   "metadata": {
    "colab": {
     "base_uri": "https://localhost:8080/",
     "height": 388
    },
    "id": "cW8Ww7HmLFyh",
    "outputId": "6b1b38c6-ac37-476d-90d7-a22897fb82bd"
   },
   "outputs": [
    {
     "data": {
      "text/plain": [
       "<Figure size 1440x1440 with 0 Axes>"
      ]
     },
     "metadata": {},
     "output_type": "display_data"
    },
    {
     "data": {
      "image/png": "[encoded data removed]",
      "text/plain": [
       "<Figure size 432x288 with 1 Axes>"
      ]
     },
     "metadata": {
      "needs_background": "light"
     },
     "output_type": "display_data"
    }
   ],
   "source": [
    "plt.figure(figsize = (20,20))\n",
    "eth_group.plot(kind = 'bar')\n",
    "plt.title('Number of Students in all ethnics')\n",
    "plt.ylabel('Number of students')\n",
    "plt.show()"
   ]
  },
  {
   "cell_type": "code",
   "execution_count": null,
   "metadata": {
    "colab": {
     "base_uri": "https://localhost:8080/",
     "height": 206
    },
    "id": "y97ppxDoLgXA",
    "outputId": "6ad154b5-041f-49f0-ef1d-4a642ea36973"
   },
   "outputs": [
    {
     "data": {
      "text/html": [
       "\n",
       "  <div id=\"df-43d472cf-7a48-4dc2-86a8-4b3a333aeb1a\">\n",
       "    <div class=\"colab-df-container\">\n",
       "      <div>\n",
       "<style scoped>\n",
       "    .dataframe tbody tr th:only-of-type {\n",
       "        vertical-align: middle;\n",
       "    }\n",
       "\n",
       "    .dataframe tbody tr th {\n",
       "        vertical-align: top;\n",
       "    }\n",
       "\n",
       "    .dataframe thead th {\n",
       "        text-align: right;\n",
       "    }\n",
       "</style>\n",
       "<table border=\"1\" class=\"dataframe\">\n",
       "  <thead>\n",
       "    <tr style=\"text-align: right;\">\n",
       "      <th>Gender</th>\n",
       "      <th>Female</th>\n",
       "      <th>Male</th>\n",
       "    </tr>\n",
       "    <tr>\n",
       "      <th>Ethnic</th>\n",
       "      <th></th>\n",
       "      <th></th>\n",
       "    </tr>\n",
       "  </thead>\n",
       "  <tbody>\n",
       "    <tr>\n",
       "      <th>African-American</th>\n",
       "      <td>20</td>\n",
       "      <td>32</td>\n",
       "    </tr>\n",
       "    <tr>\n",
       "      <th>Asian</th>\n",
       "      <td>26</td>\n",
       "      <td>27</td>\n",
       "    </tr>\n",
       "    <tr>\n",
       "      <th>Caucasian</th>\n",
       "      <td>19</td>\n",
       "      <td>26</td>\n",
       "    </tr>\n",
       "    <tr>\n",
       "      <th>Hispanic</th>\n",
       "      <td>31</td>\n",
       "      <td>35</td>\n",
       "    </tr>\n",
       "  </tbody>\n",
       "</table>\n",
       "</div>\n",
       "      <button class=\"colab-df-convert\" onclick=\"convertToInteractive('df-43d472cf-7a48-4dc2-86a8-4b3a333aeb1a')\"\n",
       "              title=\"Convert this dataframe to an interactive table.\"\n",
       "              style=\"display:none;\">\n",
       "        \n",
       "  <svg xmlns=\"http://www.w3.org/2000/svg\" height=\"24px\"viewBox=\"0 0 24 24\"\n",
       "       width=\"24px\">\n",
       "    <path d=\"M0 0h24v24H0V0z\" fill=\"none\"/>\n",
       "    <path d=\"M18.56 5.44l.94 2.06.94-2.06 2.06-.94-2.06-.94-.94-2.06-.94 2.06-2.06.94zm-11 1L8.5 8.5l.94-2.06 2.06-.94-2.06-.94L8.5 2.5l-.94 2.06-2.06.94zm10 10l.94 2.06.94-2.06 2.06-.94-2.06-.94-.94-2.06-.94 2.06-2.06.94z\"/><path d=\"M17.41 7.96l-1.37-1.37c-.4-.4-.92-.59-1.43-.59-.52 0-1.04.2-1.43.59L10.3 9.45l-7.72 7.72c-.78.78-.78 2.05 0 2.83L4 21.41c.39.39.9.59 1.41.59.51 0 1.02-.2 1.41-.59l7.78-7.78 2.81-2.81c.8-.78.8-2.07 0-2.86zM5.41 20L4 18.59l7.72-7.72 1.47 1.35L5.41 20z\"/>\n",
       "  </svg>\n",
       "      </button>\n",
       "      \n",
       "  <style>\n",
       "    .colab-df-container {\n",
       "      display:flex;\n",
       "      flex-wrap:wrap;\n",
       "      gap: 12px;\n",
       "    }\n",
       "\n",
       "    .colab-df-convert {\n",
       "      background-color: #E8F0FE;\n",
       "      border: none;\n",
       "      border-radius: 50%;\n",
       "      cursor: pointer;\n",
       "      display: none;\n",
       "      fill: #1967D2;\n",
       "      height: 32px;\n",
       "      padding: 0 0 0 0;\n",
       "      width: 32px;\n",
       "    }\n",
       "\n",
       "    .colab-df-convert:hover {\n",
       "      background-color: #E2EBFA;\n",
       "      box-shadow: 0px 1px 2px rgba(60, 64, 67, 0.3), 0px 1px 3px 1px rgba(60, 64, 67, 0.15);\n",
       "      fill: #174EA6;\n",
       "    }\n",
       "\n",
       "    [theme=dark] .colab-df-convert {\n",
       "      background-color: #3B4455;\n",
       "      fill: #D2E3FC;\n",
       "    }\n",
       "\n",
       "    [theme=dark] .colab-df-convert:hover {\n",
       "      background-color: #434B5C;\n",
       "      box-shadow: 0px 1px 3px 1px rgba(0, 0, 0, 0.15);\n",
       "      filter: drop-shadow(0px 1px 2px rgba(0, 0, 0, 0.3));\n",
       "      fill: #FFFFFF;\n",
       "    }\n",
       "  </style>\n",
       "\n",
       "      <script>\n",
       "        const buttonEl =\n",
       "          document.querySelector('#df-43d472cf-7a48-4dc2-86a8-4b3a333aeb1a button.colab-df-convert');\n",
       "        buttonEl.style.display =\n",
       "          google.colab.kernel.accessAllowed ? 'block' : 'none';\n",
       "\n",
       "        async function convertToInteractive(key) {\n",
       "          const element = document.querySelector('#df-43d472cf-7a48-4dc2-86a8-4b3a333aeb1a');\n",
       "          const dataTable =\n",
       "            await google.colab.kernel.invokeFunction('convertToInteractive',\n",
       "                                                     [key], {});\n",
       "          if (!dataTable) return;\n",
       "\n",
       "          const docLinkHtml = 'Like what you see? Visit the ' +\n",
       "            '<a target=\"_blank\" href=https://colab.research.google.com/notebooks/data_table.ipynb>data table notebook</a>'\n",
       "            + ' to learn more about interactive tables.';\n",
       "          element.innerHTML = '';\n",
       "          dataTable['output_type'] = 'display_data';\n",
       "          await google.colab.output.renderOutput(dataTable, element);\n",
       "          const docLink = document.createElement('div');\n",
       "          docLink.innerHTML = docLinkHtml;\n",
       "          element.appendChild(docLink);\n",
       "        }\n",
       "      </script>\n",
       "    </div>\n",
       "  </div>\n",
       "  "
      ],
      "text/plain": [
       "Gender            Female  Male\n",
       "Ethnic                        \n",
       "African-American      20    32\n",
       "Asian                 26    27\n",
       "Caucasian             19    26\n",
       "Hispanic              31    35"
      ]
     },
     "execution_count": 38,
     "metadata": {},
     "output_type": "execute_result"
    }
   ],
   "source": [
    "eth_group"
   ]
  },
  {
   "cell_type": "code",
   "execution_count": null,
   "metadata": {
    "colab": {
     "base_uri": "https://localhost:8080/",
     "height": 296
    },
    "id": "4rhsqGtWMNef",
    "outputId": "45df4d6e-06c5-4b07-9dd2-692538f8df2b"
   },
   "outputs": [
    {
     "data": {
      "text/plain": [
       "<matplotlib.axes._subplots.AxesSubplot at 0x7fb6294d4dd0>"
      ]
     },
     "execution_count": 39,
     "metadata": {},
     "output_type": "execute_result"
    },
    {
     "data": {
      "image/png": "[encoded data removed]",
      "text/plain": [
       "<Figure size 432x288 with 1 Axes>"
      ]
     },
     "metadata": {
      "needs_background": "light"
     },
     "output_type": "display_data"
    }
   ],
   "source": [
    "sns.barplot(x='Method', y = 'Score', data = df, ci = None)"
   ]
  },
  {
   "cell_type": "code",
   "execution_count": null,
   "metadata": {
    "colab": {
     "base_uri": "https://localhost:8080/"
    },
    "id": "KMlXjKKeMyrR",
    "outputId": "d3fcef21-b1cd-495f-8c57-4a281a38c775"
   },
   "outputs": [
    {
     "name": "stdout",
     "output_type": "stream",
     "text": [
      "Average score using Standard method: 62.33571428571429\n",
      "Average score using Traditional method: 70.6842105263158\n"
     ]
    }
   ],
   "source": [
    "print('Average score using Standard method: {}'.format(np.mean(df.Score[df.Method == 'Standard'])))\n",
    "print('Average score using Traditional method: {}'.format(np.mean(df.Score[df.Method == 'Traditional'])))"
   ]
  },
  {
   "cell_type": "code",
   "execution_count": null,
   "metadata": {
    "colab": {
     "base_uri": "https://localhost:8080/",
     "height": 530
    },
    "id": "L8yCo3tFNCh0",
    "outputId": "1292a188-5235-4429-ed13-bed75ccfc7e0"
   },
   "outputs": [
    {
     "data": {
      "text/plain": [
       "Text(0.5, 1.0, 'Average Math Score by Ethnics')"
      ]
     },
     "execution_count": 43,
     "metadata": {},
     "output_type": "execute_result"
    },
    {
     "data": {
      "image/png": "[encoded data removed]",
      "text/plain": [
       "<Figure size 720x576 with 1 Axes>"
      ]
     },
     "metadata": {
      "needs_background": "light"
     },
     "output_type": "display_data"
    }
   ],
   "source": [
    "plt.figure(figsize=(10,8))\n",
    "sns.barplot(x = 'Ethnic', y = 'Score', hue = 'Gender', data = df, ci = None, palette = 'Blues_d')\n",
    "plt.title('Average Math Score by Ethnics')"
   ]
  },
  {
   "cell_type": "code",
   "execution_count": null,
   "metadata": {
    "colab": {
     "base_uri": "https://localhost:8080/",
     "height": 143
    },
    "id": "kyVdG8oZNkrb",
    "outputId": "56dedd50-59f7-4777-f643-0cd314c4d7a7"
   },
   "outputs": [
    {
     "data": {
      "text/html": [
       "\n",
       "  <div id=\"df-866fc0db-9b14-48e9-a489-61dd45adc7f5\">\n",
       "    <div class=\"colab-df-container\">\n",
       "      <div>\n",
       "<style scoped>\n",
       "    .dataframe tbody tr th:only-of-type {\n",
       "        vertical-align: middle;\n",
       "    }\n",
       "\n",
       "    .dataframe tbody tr th {\n",
       "        vertical-align: top;\n",
       "    }\n",
       "\n",
       "    .dataframe thead th {\n",
       "        text-align: right;\n",
       "    }\n",
       "</style>\n",
       "<table border=\"1\" class=\"dataframe\">\n",
       "  <thead>\n",
       "    <tr style=\"text-align: right;\">\n",
       "      <th>Ethnic</th>\n",
       "      <th>African-American</th>\n",
       "      <th>Asian</th>\n",
       "      <th>Caucasian</th>\n",
       "      <th>Hispanic</th>\n",
       "    </tr>\n",
       "    <tr>\n",
       "      <th>Gender</th>\n",
       "      <th></th>\n",
       "      <th></th>\n",
       "      <th></th>\n",
       "      <th></th>\n",
       "    </tr>\n",
       "  </thead>\n",
       "  <tbody>\n",
       "    <tr>\n",
       "      <th>Female</th>\n",
       "      <td>66.05</td>\n",
       "      <td>68.38</td>\n",
       "      <td>70.63</td>\n",
       "      <td>66.26</td>\n",
       "    </tr>\n",
       "    <tr>\n",
       "      <th>Male</th>\n",
       "      <td>66.34</td>\n",
       "      <td>63.11</td>\n",
       "      <td>59.73</td>\n",
       "      <td>63.54</td>\n",
       "    </tr>\n",
       "  </tbody>\n",
       "</table>\n",
       "</div>\n",
       "      <button class=\"colab-df-convert\" onclick=\"convertToInteractive('df-866fc0db-9b14-48e9-a489-61dd45adc7f5')\"\n",
       "              title=\"Convert this dataframe to an interactive table.\"\n",
       "              style=\"display:none;\">\n",
       "        \n",
       "  <svg xmlns=\"http://www.w3.org/2000/svg\" height=\"24px\"viewBox=\"0 0 24 24\"\n",
       "       width=\"24px\">\n",
       "    <path d=\"M0 0h24v24H0V0z\" fill=\"none\"/>\n",
       "    <path d=\"M18.56 5.44l.94 2.06.94-2.06 2.06-.94-2.06-.94-.94-2.06-.94 2.06-2.06.94zm-11 1L8.5 8.5l.94-2.06 2.06-.94-2.06-.94L8.5 2.5l-.94 2.06-2.06.94zm10 10l.94 2.06.94-2.06 2.06-.94-2.06-.94-.94-2.06-.94 2.06-2.06.94z\"/><path d=\"M17.41 7.96l-1.37-1.37c-.4-.4-.92-.59-1.43-.59-.52 0-1.04.2-1.43.59L10.3 9.45l-7.72 7.72c-.78.78-.78 2.05 0 2.83L4 21.41c.39.39.9.59 1.41.59.51 0 1.02-.2 1.41-.59l7.78-7.78 2.81-2.81c.8-.78.8-2.07 0-2.86zM5.41 20L4 18.59l7.72-7.72 1.47 1.35L5.41 20z\"/>\n",
       "  </svg>\n",
       "      </button>\n",
       "      \n",
       "  <style>\n",
       "    .colab-df-container {\n",
       "      display:flex;\n",
       "      flex-wrap:wrap;\n",
       "      gap: 12px;\n",
       "    }\n",
       "\n",
       "    .colab-df-convert {\n",
       "      background-color: #E8F0FE;\n",
       "      border: none;\n",
       "      border-radius: 50%;\n",
       "      cursor: pointer;\n",
       "      display: none;\n",
       "      fill: #1967D2;\n",
       "      height: 32px;\n",
       "      padding: 0 0 0 0;\n",
       "      width: 32px;\n",
       "    }\n",
       "\n",
       "    .colab-df-convert:hover {\n",
       "      background-color: #E2EBFA;\n",
       "      box-shadow: 0px 1px 2px rgba(60, 64, 67, 0.3), 0px 1px 3px 1px rgba(60, 64, 67, 0.15);\n",
       "      fill: #174EA6;\n",
       "    }\n",
       "\n",
       "    [theme=dark] .colab-df-convert {\n",
       "      background-color: #3B4455;\n",
       "      fill: #D2E3FC;\n",
       "    }\n",
       "\n",
       "    [theme=dark] .colab-df-convert:hover {\n",
       "      background-color: #434B5C;\n",
       "      box-shadow: 0px 1px 3px 1px rgba(0, 0, 0, 0.15);\n",
       "      filter: drop-shadow(0px 1px 2px rgba(0, 0, 0, 0.3));\n",
       "      fill: #FFFFFF;\n",
       "    }\n",
       "  </style>\n",
       "\n",
       "      <script>\n",
       "        const buttonEl =\n",
       "          document.querySelector('#df-866fc0db-9b14-48e9-a489-61dd45adc7f5 button.colab-df-convert');\n",
       "        buttonEl.style.display =\n",
       "          google.colab.kernel.accessAllowed ? 'block' : 'none';\n",
       "\n",
       "        async function convertToInteractive(key) {\n",
       "          const element = document.querySelector('#df-866fc0db-9b14-48e9-a489-61dd45adc7f5');\n",
       "          const dataTable =\n",
       "            await google.colab.kernel.invokeFunction('convertToInteractive',\n",
       "                                                     [key], {});\n",
       "          if (!dataTable) return;\n",
       "\n",
       "          const docLinkHtml = 'Like what you see? Visit the ' +\n",
       "            '<a target=\"_blank\" href=https://colab.research.google.com/notebooks/data_table.ipynb>data table notebook</a>'\n",
       "            + ' to learn more about interactive tables.';\n",
       "          element.innerHTML = '';\n",
       "          dataTable['output_type'] = 'display_data';\n",
       "          await google.colab.output.renderOutput(dataTable, element);\n",
       "          const docLink = document.createElement('div');\n",
       "          docLink.innerHTML = docLinkHtml;\n",
       "          element.appendChild(docLink);\n",
       "        }\n",
       "      </script>\n",
       "    </div>\n",
       "  </div>\n",
       "  "
      ],
      "text/plain": [
       "Ethnic  African-American  Asian  Caucasian  Hispanic\n",
       "Gender                                              \n",
       "Female             66.05  68.38      70.63     66.26\n",
       "Male               66.34  63.11      59.73     63.54"
      ]
     },
     "execution_count": 44,
     "metadata": {},
     "output_type": "execute_result"
    }
   ],
   "source": [
    "np.round(pd.pivot_table(df, index = 'Gender', columns = 'Ethnic', values = 'Score'), 2)"
   ]
  },
  {
   "cell_type": "code",
   "execution_count": null,
   "metadata": {
    "id": "OzuGsrswOaoD"
   },
   "outputs": [],
   "source": [
    "df_trad = df[df.Method == 'Traditional']\n",
    "df_stan = df[df.Method == 'Standard']"
   ]
  },
  {
   "cell_type": "code",
   "execution_count": null,
   "metadata": {
    "colab": {
     "base_uri": "https://localhost:8080/",
     "height": 312
    },
    "id": "4WjtGgmrPfPi",
    "outputId": "25a5ebf1-2fdb-447c-f952-a0b03fa46a2c"
   },
   "outputs": [
    {
     "data": {
      "text/plain": [
       "Text(0.5, 1.0, 'average math score using traditional method')"
      ]
     },
     "execution_count": 46,
     "metadata": {},
     "output_type": "execute_result"
    },
    {
     "data": {
      "image/png": "[encoded data removed]",
      "text/plain": [
       "<Figure size 432x288 with 1 Axes>"
      ]
     },
     "metadata": {
      "needs_background": "light"
     },
     "output_type": "display_data"
    }
   ],
   "source": [
    "sns.barplot(data = df_trad, x='Ethnic', y='Score', ci=None, order = ['Asian', 'African-American', 'Hispanic', 'Caucasian'], palette = 'flare_r')\n",
    "plt.title('average math score using traditional method')"
   ]
  },
  {
   "cell_type": "code",
   "execution_count": null,
   "metadata": {
    "colab": {
     "base_uri": "https://localhost:8080/"
    },
    "id": "kFdusk1yPjUi",
    "outputId": "9b406d0f-6b83-4e9c-fb1f-c704995daff2"
   },
   "outputs": [
    {
     "data": {
      "text/plain": [
       "Ethnic\n",
       "African-American    72.89\n",
       "Asian               73.19\n",
       "Caucasian           66.32\n",
       "Hispanic            70.83\n",
       "Name: Score, dtype: float64"
      ]
     },
     "execution_count": 47,
     "metadata": {},
     "output_type": "execute_result"
    }
   ],
   "source": [
    "np.round(df_trad.groupby('Ethnic')['Score'].mean(), 2)"
   ]
  },
  {
   "cell_type": "code",
   "execution_count": null,
   "metadata": {
    "colab": {
     "base_uri": "https://localhost:8080/",
     "height": 312
    },
    "id": "-n_KNuK-PqIj",
    "outputId": "7c8b30ae-6489-4ebe-b4fd-27ffdf89cee7"
   },
   "outputs": [
    {
     "data": {
      "text/plain": [
       "Text(0.5, 1.0, 'average math score using standard method')"
      ]
     },
     "execution_count": 48,
     "metadata": {},
     "output_type": "execute_result"
    },
    {
     "data": {
      "image/png": "[encoded data removed]",
      "text/plain": [
       "<Figure size 432x288 with 1 Axes>"
      ]
     },
     "metadata": {
      "needs_background": "light"
     },
     "output_type": "display_data"
    }
   ],
   "source": [
    "sns.barplot(data = df_stan, x='Ethnic', y='Score', ci=None, order = ['Caucasian', 'African-American', 'Asian', 'Hispanic'], palette = 'autumn')\n",
    "plt.title('average math score using standard method')"
   ]
  },
  {
   "cell_type": "code",
   "execution_count": null,
   "metadata": {
    "colab": {
     "base_uri": "https://localhost:8080/"
    },
    "id": "ncn1TntUQPpU",
    "outputId": "76afe084-06c8-4cc3-f127-c18d01752fb3"
   },
   "outputs": [
    {
     "data": {
      "text/plain": [
       "Ethnic\n",
       "African-American    62.71\n",
       "Asian               62.46\n",
       "Caucasian           62.88\n",
       "Hispanic            61.60\n",
       "Name: Score, dtype: float64"
      ]
     },
     "execution_count": 49,
     "metadata": {},
     "output_type": "execute_result"
    }
   ],
   "source": [
    "np.round(df_stan.groupby('Ethnic')['Score'].mean(), 2)"
   ]
  },
  {
   "cell_type": "code",
   "execution_count": null,
   "metadata": {
    "colab": {
     "base_uri": "https://localhost:8080/",
     "height": 296
    },
    "id": "zJR1cLgxQZYL",
    "outputId": "364f9445-9cb9-42c0-aaea-89ac11bdc0cb"
   },
   "outputs": [
    {
     "data": {
      "text/plain": [
       "<matplotlib.axes._subplots.AxesSubplot at 0x7fb629661990>"
      ]
     },
     "execution_count": 50,
     "metadata": {},
     "output_type": "execute_result"
    },
    {
     "data": {
      "image/png": "[encoded data removed]",
      "text/plain": [
       "<Figure size 432x288 with 1 Axes>"
      ]
     },
     "metadata": {
      "needs_background": "light"
     },
     "output_type": "display_data"
    }
   ],
   "source": [
    "sns.barplot(x='Teacher', y = 'Score', data = df, ci = None, order = ['Wesson', 'Smith', 'Ruger'], palette = 'Purples_r')"
   ]
  },
  {
   "cell_type": "code",
   "execution_count": null,
   "metadata": {
    "colab": {
     "base_uri": "https://localhost:8080/"
    },
    "id": "Wq2QPRT2REa5",
    "outputId": "6064313b-7920-45fc-ac61-a75a4fe943a8"
   },
   "outputs": [
    {
     "data": {
      "text/plain": [
       "Teacher\n",
       "Ruger     55.267606\n",
       "Smith     69.608696\n",
       "Wesson    70.684211\n",
       "Name: Score, dtype: float64"
      ]
     },
     "execution_count": 51,
     "metadata": {},
     "output_type": "execute_result"
    }
   ],
   "source": [
    "df.groupby('Teacher')['Score'].mean()"
   ]
  },
  {
   "cell_type": "code",
   "execution_count": null,
   "metadata": {
    "colab": {
     "base_uri": "https://localhost:8080/",
     "height": 175
    },
    "id": "hrjryZPtRJGL",
    "outputId": "be08abe7-4c27-4ffc-cc11-0194031aa0a9"
   },
   "outputs": [
    {
     "data": {
      "text/html": [
       "\n",
       "  <div id=\"df-1e96741c-361c-497b-9fe5-9741dd2d7c8e\">\n",
       "    <div class=\"colab-df-container\">\n",
       "      <div>\n",
       "<style scoped>\n",
       "    .dataframe tbody tr th:only-of-type {\n",
       "        vertical-align: middle;\n",
       "    }\n",
       "\n",
       "    .dataframe tbody tr th {\n",
       "        vertical-align: top;\n",
       "    }\n",
       "\n",
       "    .dataframe thead th {\n",
       "        text-align: right;\n",
       "    }\n",
       "</style>\n",
       "<table border=\"1\" class=\"dataframe\">\n",
       "  <thead>\n",
       "    <tr style=\"text-align: right;\">\n",
       "      <th>Ethnic</th>\n",
       "      <th>African-American</th>\n",
       "      <th>Asian</th>\n",
       "      <th>Caucasian</th>\n",
       "      <th>Hispanic</th>\n",
       "    </tr>\n",
       "    <tr>\n",
       "      <th>Teacher</th>\n",
       "      <th></th>\n",
       "      <th></th>\n",
       "      <th></th>\n",
       "      <th></th>\n",
       "    </tr>\n",
       "  </thead>\n",
       "  <tbody>\n",
       "    <tr>\n",
       "      <th>Ruger</th>\n",
       "      <td>55.222222</td>\n",
       "      <td>53.705882</td>\n",
       "      <td>56.909091</td>\n",
       "      <td>55.640000</td>\n",
       "    </tr>\n",
       "    <tr>\n",
       "      <th>Smith</th>\n",
       "      <td>71.125000</td>\n",
       "      <td>69.900000</td>\n",
       "      <td>67.266667</td>\n",
       "      <td>69.888889</td>\n",
       "    </tr>\n",
       "    <tr>\n",
       "      <th>Wesson</th>\n",
       "      <td>72.888889</td>\n",
       "      <td>73.187500</td>\n",
       "      <td>66.315789</td>\n",
       "      <td>70.826087</td>\n",
       "    </tr>\n",
       "  </tbody>\n",
       "</table>\n",
       "</div>\n",
       "      <button class=\"colab-df-convert\" onclick=\"convertToInteractive('df-1e96741c-361c-497b-9fe5-9741dd2d7c8e')\"\n",
       "              title=\"Convert this dataframe to an interactive table.\"\n",
       "              style=\"display:none;\">\n",
       "        \n",
       "  <svg xmlns=\"http://www.w3.org/2000/svg\" height=\"24px\"viewBox=\"0 0 24 24\"\n",
       "       width=\"24px\">\n",
       "    <path d=\"M0 0h24v24H0V0z\" fill=\"none\"/>\n",
       "    <path d=\"M18.56 5.44l.94 2.06.94-2.06 2.06-.94-2.06-.94-.94-2.06-.94 2.06-2.06.94zm-11 1L8.5 8.5l.94-2.06 2.06-.94-2.06-.94L8.5 2.5l-.94 2.06-2.06.94zm10 10l.94 2.06.94-2.06 2.06-.94-2.06-.94-.94-2.06-.94 2.06-2.06.94z\"/><path d=\"M17.41 7.96l-1.37-1.37c-.4-.4-.92-.59-1.43-.59-.52 0-1.04.2-1.43.59L10.3 9.45l-7.72 7.72c-.78.78-.78 2.05 0 2.83L4 21.41c.39.39.9.59 1.41.59.51 0 1.02-.2 1.41-.59l7.78-7.78 2.81-2.81c.8-.78.8-2.07 0-2.86zM5.41 20L4 18.59l7.72-7.72 1.47 1.35L5.41 20z\"/>\n",
       "  </svg>\n",
       "      </button>\n",
       "      \n",
       "  <style>\n",
       "    .colab-df-container {\n",
       "      display:flex;\n",
       "      flex-wrap:wrap;\n",
       "      gap: 12px;\n",
       "    }\n",
       "\n",
       "    .colab-df-convert {\n",
       "      background-color: #E8F0FE;\n",
       "      border: none;\n",
       "      border-radius: 50%;\n",
       "      cursor: pointer;\n",
       "      display: none;\n",
       "      fill: #1967D2;\n",
       "      height: 32px;\n",
       "      padding: 0 0 0 0;\n",
       "      width: 32px;\n",
       "    }\n",
       "\n",
       "    .colab-df-convert:hover {\n",
       "      background-color: #E2EBFA;\n",
       "      box-shadow: 0px 1px 2px rgba(60, 64, 67, 0.3), 0px 1px 3px 1px rgba(60, 64, 67, 0.15);\n",
       "      fill: #174EA6;\n",
       "    }\n",
       "\n",
       "    [theme=dark] .colab-df-convert {\n",
       "      background-color: #3B4455;\n",
       "      fill: #D2E3FC;\n",
       "    }\n",
       "\n",
       "    [theme=dark] .colab-df-convert:hover {\n",
       "      background-color: #434B5C;\n",
       "      box-shadow: 0px 1px 3px 1px rgba(0, 0, 0, 0.15);\n",
       "      filter: drop-shadow(0px 1px 2px rgba(0, 0, 0, 0.3));\n",
       "      fill: #FFFFFF;\n",
       "    }\n",
       "  </style>\n",
       "\n",
       "      <script>\n",
       "        const buttonEl =\n",
       "          document.querySelector('#df-1e96741c-361c-497b-9fe5-9741dd2d7c8e button.colab-df-convert');\n",
       "        buttonEl.style.display =\n",
       "          google.colab.kernel.accessAllowed ? 'block' : 'none';\n",
       "\n",
       "        async function convertToInteractive(key) {\n",
       "          const element = document.querySelector('#df-1e96741c-361c-497b-9fe5-9741dd2d7c8e');\n",
       "          const dataTable =\n",
       "            await google.colab.kernel.invokeFunction('convertToInteractive',\n",
       "                                                     [key], {});\n",
       "          if (!dataTable) return;\n",
       "\n",
       "          const docLinkHtml = 'Like what you see? Visit the ' +\n",
       "            '<a target=\"_blank\" href=https://colab.research.google.com/notebooks/data_table.ipynb>data table notebook</a>'\n",
       "            + ' to learn more about interactive tables.';\n",
       "          element.innerHTML = '';\n",
       "          dataTable['output_type'] = 'display_data';\n",
       "          await google.colab.output.renderOutput(dataTable, element);\n",
       "          const docLink = document.createElement('div');\n",
       "          docLink.innerHTML = docLinkHtml;\n",
       "          element.appendChild(docLink);\n",
       "        }\n",
       "      </script>\n",
       "    </div>\n",
       "  </div>\n",
       "  "
      ],
      "text/plain": [
       "Ethnic   African-American      Asian  Caucasian   Hispanic\n",
       "Teacher                                                   \n",
       "Ruger           55.222222  53.705882  56.909091  55.640000\n",
       "Smith           71.125000  69.900000  67.266667  69.888889\n",
       "Wesson          72.888889  73.187500  66.315789  70.826087"
      ]
     },
     "execution_count": 52,
     "metadata": {},
     "output_type": "execute_result"
    }
   ],
   "source": [
    "pd.pivot_table(index = 'Teacher', columns = 'Ethnic', values = 'Score', data = df)"
   ]
  },
  {
   "cell_type": "code",
   "execution_count": null,
   "metadata": {
    "colab": {
     "base_uri": "https://localhost:8080/",
     "height": 421
    },
    "id": "7yDJ5GRtRNFp",
    "outputId": "0ce62574-4212-4056-80c7-d194b0597b21"
   },
   "outputs": [
    {
     "data": {
      "text/plain": [
       "Text(0.5, 1.0, 'Students performance compared to each teacher')"
      ]
     },
     "execution_count": 53,
     "metadata": {},
     "output_type": "execute_result"
    },
    {
     "data": {
      "image/png": "[encoded data removed]",
      "text/plain": [
       "<Figure size 720x432 with 1 Axes>"
      ]
     },
     "metadata": {
      "needs_background": "light"
     },
     "output_type": "display_data"
    }
   ],
   "source": [
    "plt.figure(figsize = (10,6))\n",
    "sns.barplot(data = df, x = 'Ethnic', y = 'Score', hue = 'Teacher', ci = None, palette = 'pastel')\n",
    "plt.title('Students performance compared to each teacher')"
   ]
  },
  {
   "cell_type": "code",
   "execution_count": null,
   "metadata": {
    "id": "WpmUsNm7RTQF"
   },
   "outputs": [],
   "source": []
  }
 ],
 "metadata": {
  "colab": {
   "collapsed_sections": [],
   "name": "Students math's score.ipynb",
   "provenance": [],
   "toc_visible": true
  },
  "kernelspec": {
   "display_name": "Python 3",
   "language": "python",
   "name": "python3"
  },
  "language_info": {
   "codemirror_mode": {
    "name": "ipython",
    "version": 3
   },
   "file_extension": ".py",
   "mimetype": "text/x-python",
   "name": "python",
   "nbconvert_exporter": "python",
   "pygments_lexer": "ipython3",
   "version": "3.8.8"
  }
 },
 "nbformat": 4,
 "nbformat_minor": 1
}
